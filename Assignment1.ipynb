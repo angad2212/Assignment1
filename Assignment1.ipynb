{
  "nbformat": 4,
  "nbformat_minor": 0,
  "metadata": {
    "colab": {
      "provenance": [],
      "authorship_tag": "ABX9TyOZXaKZXH05q8bKkHGRn2KM",
      "include_colab_link": true
    },
    "kernelspec": {
      "name": "python3",
      "display_name": "Python 3"
    },
    "language_info": {
      "name": "python"
    }
  },
  "cells": [
    {
      "cell_type": "markdown",
      "metadata": {
        "id": "view-in-github",
        "colab_type": "text"
      },
      "source": [
        "<a href=\"https://colab.research.google.com/github/angad2212/Assignment1/blob/main/Assignment1.ipynb\" target=\"_parent\"><img src=\"https://colab.research.google.com/assets/colab-badge.svg\" alt=\"Open In Colab\"/></a>"
      ]
    },
    {
      "cell_type": "markdown",
      "source": [
        "Q1)i)"
      ],
      "metadata": {
        "id": "Ow9YlZI4mmCJ"
      }
    },
    {
      "cell_type": "code",
      "execution_count": 3,
      "metadata": {
        "colab": {
          "base_uri": "https://localhost:8080/"
        },
        "id": "DH-UYRUxmTg2",
        "outputId": "dbb89b8b-3d12-4651-f634-883f62f38b62"
      },
      "outputs": [
        {
          "output_type": "stream",
          "name": "stdout",
          "text": [
            "[11, 12, 13, 14, 50, 60]\n"
          ]
        }
      ],
      "source": [
        "L = [11, 12, 13, 14]\n",
        "L.append(50)\n",
        "L.append(60)\n",
        "print(L)"
      ]
    },
    {
      "cell_type": "markdown",
      "source": [
        "Q1)ii)"
      ],
      "metadata": {
        "id": "SHmNtVqHky-8"
      }
    },
    {
      "cell_type": "code",
      "source": [
        "L = [11, 12, 13, 14]\n",
        "del L[0]\n",
        "del L[1]\n",
        "print(L)"
      ],
      "metadata": {
        "colab": {
          "base_uri": "https://localhost:8080/"
        },
        "id": "60n2omREk1lT",
        "outputId": "91403d33-120a-4181-eb56-785ab73958b1"
      },
      "execution_count": 5,
      "outputs": [
        {
          "output_type": "stream",
          "name": "stdout",
          "text": [
            "[12, 14]\n"
          ]
        }
      ]
    },
    {
      "cell_type": "markdown",
      "source": [
        "Q1)iii) and iv)"
      ],
      "metadata": {
        "id": "rwFlwdqLlJ82"
      }
    },
    {
      "cell_type": "code",
      "source": [
        "L = [11, 13, 12, 14]\n",
        "L.sort()\n",
        "print(L) #ascending order\n",
        "L.sort(reverse=True)\n",
        "print(L) #descending order "
      ],
      "metadata": {
        "colab": {
          "base_uri": "https://localhost:8080/"
        },
        "id": "qrl1FxZllM7U",
        "outputId": "b4653937-be5b-4e6f-f200-59ccddee9a54"
      },
      "execution_count": 8,
      "outputs": [
        {
          "output_type": "stream",
          "name": "stdout",
          "text": [
            "[11, 12, 13, 14]\n",
            "[14, 13, 12, 11]\n"
          ]
        }
      ]
    },
    {
      "cell_type": "markdown",
      "source": [
        "Q1)v)"
      ],
      "metadata": {
        "id": "_6dKJzznl2IU"
      }
    },
    {
      "cell_type": "code",
      "source": [
        "L = [11, 12, 13, 14]\n",
        "print(\"Original list is: \", L)\n",
        "if (13 in L) == True:\n",
        "  print(\"present\")\n",
        "else:\n",
        "  print(\"not present\")"
      ],
      "metadata": {
        "colab": {
          "base_uri": "https://localhost:8080/"
        },
        "id": "TVZKQbADl4Fb",
        "outputId": "69ad53d4-7967-4122-9087-2a02b327a18a"
      },
      "execution_count": 10,
      "outputs": [
        {
          "output_type": "stream",
          "name": "stdout",
          "text": [
            "Original list is:  [11, 12, 13, 14]\n",
            "present\n"
          ]
        }
      ]
    },
    {
      "cell_type": "markdown",
      "source": [
        "Q1)vi)"
      ],
      "metadata": {
        "id": "kCRKYfsXmfcO"
      }
    },
    {
      "cell_type": "code",
      "source": [
        "L = [11, 12, 13, 14]\n",
        "print(\"number of items is: \", len(L))"
      ],
      "metadata": {
        "colab": {
          "base_uri": "https://localhost:8080/"
        },
        "id": "T2xCxaU4mg_A",
        "outputId": "8a293fba-0524-4c03-df49-fcc2bc2bb570"
      },
      "execution_count": 11,
      "outputs": [
        {
          "output_type": "stream",
          "name": "stdout",
          "text": [
            "number of items is:  4\n"
          ]
        }
      ]
    },
    {
      "cell_type": "markdown",
      "source": [
        "Q1)vii)"
      ],
      "metadata": {
        "id": "CrbWnkNYnBnj"
      }
    },
    {
      "cell_type": "code",
      "source": [
        "L = [11, 12, 13, 14]\n",
        "print(\"sum of all elements are: \", sum(L))"
      ],
      "metadata": {
        "colab": {
          "base_uri": "https://localhost:8080/"
        },
        "id": "mkTvKSewnDq5",
        "outputId": "1267a86b-2e8d-4296-aa69-41f0eca638d0"
      },
      "execution_count": 12,
      "outputs": [
        {
          "output_type": "stream",
          "name": "stdout",
          "text": [
            "sum of all elements are:  50\n"
          ]
        }
      ]
    },
    {
      "cell_type": "markdown",
      "source": [
        "Q1)viii)"
      ],
      "metadata": {
        "id": "n_b66NVFnRZc"
      }
    },
    {
      "cell_type": "code",
      "source": [
        "L = [11, 12, 13, 14]\n",
        "sum_of_odd = sum(n for n in L if n % 2 != 0)\n",
        "print(\"Sum of odd numbers:\", sum_of_odd)"
      ],
      "metadata": {
        "colab": {
          "base_uri": "https://localhost:8080/"
        },
        "id": "RRusAzq4neM-",
        "outputId": "b3adcb82-ca1c-4502-f544-a206cd9e932e"
      },
      "execution_count": 13,
      "outputs": [
        {
          "output_type": "stream",
          "name": "stdout",
          "text": [
            "Sum of odd numbers: 24\n"
          ]
        }
      ]
    },
    {
      "cell_type": "markdown",
      "source": [
        "Q1)ix)"
      ],
      "metadata": {
        "id": "_kPQW7qVpT4F"
      }
    },
    {
      "cell_type": "code",
      "source": [
        "L = [11, 12, 13, 14]\n",
        "sum_of_even = sum(n for n in L if n % 2 == 0)\n",
        "print(\"Sum of even numbers:\", sum_of_even)"
      ],
      "metadata": {
        "colab": {
          "base_uri": "https://localhost:8080/"
        },
        "id": "powxr73ipWts",
        "outputId": "976cc19c-c053-404e-db07-3404169f90cd"
      },
      "execution_count": 15,
      "outputs": [
        {
          "output_type": "stream",
          "name": "stdout",
          "text": [
            "Sum of even numbers: 26\n"
          ]
        }
      ]
    },
    {
      "cell_type": "markdown",
      "source": [
        "Q1)xi)"
      ],
      "metadata": {
        "id": "AFhqvhNjtso3"
      }
    },
    {
      "cell_type": "code",
      "source": [
        "L = [11, 12, 13, 14]\n",
        "L.clear()\n",
        "print(L)"
      ],
      "metadata": {
        "colab": {
          "base_uri": "https://localhost:8080/"
        },
        "id": "NzamSnq9tuQa",
        "outputId": "c0e4cad9-580b-4333-dec8-e1a16d39892a"
      },
      "execution_count": 37,
      "outputs": [
        {
          "output_type": "stream",
          "name": "stdout",
          "text": [
            "[]\n"
          ]
        }
      ]
    },
    {
      "cell_type": "markdown",
      "source": [
        "Q1)xii)"
      ],
      "metadata": {
        "id": "pInLiGKrplUC"
      }
    },
    {
      "cell_type": "code",
      "source": [
        "L = [11, 12, 13, 14]\n",
        "del L[0]\n",
        "del L[1]\n",
        "print(L)"
      ],
      "metadata": {
        "colab": {
          "base_uri": "https://localhost:8080/"
        },
        "id": "uctfcQo2pnXD",
        "outputId": "6a63ad19-dfe8-4082-c67b-3c40e5ec2f48"
      },
      "execution_count": 20,
      "outputs": [
        {
          "output_type": "stream",
          "name": "stdout",
          "text": [
            "[12, 14]\n"
          ]
        }
      ]
    },
    {
      "cell_type": "markdown",
      "source": [
        "Q2)i)"
      ],
      "metadata": {
        "id": "Adcf6hm8qjRC"
      }
    },
    {
      "cell_type": "code",
      "source": [
        "D= {1:5.6, 2:7.8, 3:6.6, 4:8.7, 5:7.7}\n",
        "D[8]=8.8\n",
        "print(D)"
      ],
      "metadata": {
        "colab": {
          "base_uri": "https://localhost:8080/"
        },
        "id": "7G-7FzxPqt4e",
        "outputId": "323b9169-aae7-447f-d4c0-e94ec2323218"
      },
      "execution_count": 21,
      "outputs": [
        {
          "output_type": "stream",
          "name": "stdout",
          "text": [
            "{1: 5.6, 2: 7.8, 3: 6.6, 4: 8.7, 5: 7.7, 8: 8.8}\n"
          ]
        }
      ]
    },
    {
      "cell_type": "markdown",
      "source": [
        "Q2)ii)"
      ],
      "metadata": {
        "id": "eSb0fi7TrVhO"
      }
    },
    {
      "cell_type": "code",
      "source": [
        "D= {1:5.6, 2:7.8, 3:6.6, 4:8.7, 5:7.7}\n",
        "del D[2]\n",
        "print(D)"
      ],
      "metadata": {
        "colab": {
          "base_uri": "https://localhost:8080/"
        },
        "id": "YrHtezXbrXyJ",
        "outputId": "a0bdd702-2d4d-4723-cbf1-6e1ed7b1d74c"
      },
      "execution_count": 24,
      "outputs": [
        {
          "output_type": "stream",
          "name": "stdout",
          "text": [
            "{1: 5.6, 3: 6.6, 4: 8.7, 5: 7.7}\n"
          ]
        }
      ]
    },
    {
      "cell_type": "markdown",
      "source": [
        "Q2)iii)"
      ],
      "metadata": {
        "id": "jdx8SATWrhR5"
      }
    },
    {
      "cell_type": "code",
      "source": [
        "D= {1:5.6, 2:7.8, 3:6.6, 4:8.7, 5:7.7}\n",
        "print(\"is 6 in D ? \", 6 in D)"
      ],
      "metadata": {
        "colab": {
          "base_uri": "https://localhost:8080/"
        },
        "id": "QUBkqB1ari63",
        "outputId": "e0f469ed-9387-4051-fae6-b016011b0628"
      },
      "execution_count": 25,
      "outputs": [
        {
          "output_type": "stream",
          "name": "stdout",
          "text": [
            "is 6 in D ?  False\n"
          ]
        }
      ]
    },
    {
      "cell_type": "markdown",
      "source": [
        "Q2)iv)"
      ],
      "metadata": {
        "id": "D20KYbWCrzzK"
      }
    },
    {
      "cell_type": "code",
      "source": [
        "D= {1:5.6, 2:7.8, 3:6.6, 4:8.7, 5:7.7}\n",
        "num = len(D)\n",
        "print(num)\n"
      ],
      "metadata": {
        "colab": {
          "base_uri": "https://localhost:8080/"
        },
        "id": "ZtFOLsUpr1tf",
        "outputId": "fb6d055b-4567-42a7-caf9-0f318e08b958"
      },
      "execution_count": 30,
      "outputs": [
        {
          "output_type": "stream",
          "name": "stdout",
          "text": [
            "5\n"
          ]
        }
      ]
    },
    {
      "cell_type": "markdown",
      "source": [
        "Q2)v)"
      ],
      "metadata": {
        "id": "jAbrbg56skKp"
      }
    },
    {
      "cell_type": "code",
      "source": [
        "D= {1:5.6, 2:7.8, 3:6.6, 4:8.7, 5:7.7}\n",
        "num= list(D.values())\n",
        "print(num)\n",
        "sum(num)"
      ],
      "metadata": {
        "colab": {
          "base_uri": "https://localhost:8080/"
        },
        "id": "bQyWhUMZso3L",
        "outputId": "29a918b4-f461-4ae6-df1f-8859e4487e93"
      },
      "execution_count": 33,
      "outputs": [
        {
          "output_type": "stream",
          "name": "stdout",
          "text": [
            "[5.6, 7.8, 6.6, 8.7, 7.7]\n"
          ]
        },
        {
          "output_type": "execute_result",
          "data": {
            "text/plain": [
              "36.4"
            ]
          },
          "metadata": {},
          "execution_count": 33
        }
      ]
    },
    {
      "cell_type": "markdown",
      "source": [
        "Q2)vi)"
      ],
      "metadata": {
        "id": "S6kwemCds9wZ"
      }
    },
    {
      "cell_type": "code",
      "source": [
        "D= {1:5.6, 2:7.8, 3:6.6, 4:8.7, 5:7.7}\n",
        "D[3]=7.1\n",
        "print(\"after updating:\", D)"
      ],
      "metadata": {
        "colab": {
          "base_uri": "https://localhost:8080/"
        },
        "id": "fyawaZWUs_ae",
        "outputId": "f7ec6e2f-fff2-4f67-e0d9-a85ddfa7ab2e"
      },
      "execution_count": 34,
      "outputs": [
        {
          "output_type": "stream",
          "name": "stdout",
          "text": [
            "after updating: {1: 5.6, 2: 7.8, 3: 7.1, 4: 8.7, 5: 7.7}\n"
          ]
        }
      ]
    },
    {
      "cell_type": "markdown",
      "source": [
        "Q2)vii)"
      ],
      "metadata": {
        "id": "I4ZmOFHktMIH"
      }
    },
    {
      "cell_type": "code",
      "source": [
        "D= {1:5.6, 2:7.8, 3:6.6, 4:8.7, 5:7.7}\n",
        "D.clear()\n",
        "print(D)"
      ],
      "metadata": {
        "colab": {
          "base_uri": "https://localhost:8080/"
        },
        "id": "CEm10xoQtN4x",
        "outputId": "16289fb8-e3a4-49b6-ca8c-2a78d4a2a98e"
      },
      "execution_count": 36,
      "outputs": [
        {
          "output_type": "stream",
          "name": "stdout",
          "text": [
            "{}\n"
          ]
        }
      ]
    },
    {
      "cell_type": "markdown",
      "source": [
        "Q3)i)"
      ],
      "metadata": {
        "id": "sljLR-B-t102"
      }
    },
    {
      "cell_type": "code",
      "source": [
        "S1 = set([10,20,30,40,50,60])\n",
        "S2 = set([40,50,60,70,80,90])\n",
        "S1.add(55)\n",
        "S1.add(66)\n",
        "print(\"afte adding 55 and 66 to S1: \", S1)"
      ],
      "metadata": {
        "colab": {
          "base_uri": "https://localhost:8080/"
        },
        "id": "R2twXnkPt3ig",
        "outputId": "1eb3d006-c072-4e7e-bb6f-b38196e4b59a"
      },
      "execution_count": 39,
      "outputs": [
        {
          "output_type": "stream",
          "name": "stdout",
          "text": [
            "afte adding 55 and 66 to S1:  {66, 40, 10, 50, 20, 55, 60, 30}\n"
          ]
        }
      ]
    },
    {
      "cell_type": "markdown",
      "source": [
        "Q3)ii)"
      ],
      "metadata": {
        "id": "1f4SWQ8nuxdX"
      }
    },
    {
      "cell_type": "code",
      "source": [
        "S1 = set([10,20,30,40,50,60])\n",
        "S2 = set([40,50,60,70,80,90])\n",
        "S1.remove(10)\n",
        "S1.remove(30)\n",
        "print(S1)"
      ],
      "metadata": {
        "colab": {
          "base_uri": "https://localhost:8080/"
        },
        "id": "7anZDNxiuy9P",
        "outputId": "9bc49318-09a8-4827-b27d-29e8765ebd22"
      },
      "execution_count": 40,
      "outputs": [
        {
          "output_type": "stream",
          "name": "stdout",
          "text": [
            "{40, 50, 20, 60}\n"
          ]
        }
      ]
    },
    {
      "cell_type": "markdown",
      "source": [
        "Q3)iii)"
      ],
      "metadata": {
        "id": "8mjHnU-AvVBm"
      }
    },
    {
      "cell_type": "code",
      "source": [
        "S1 = set([10,20,30,40,50,60])\n",
        "S2 = set([40,50,60,70,80,90])\n",
        "print(\"is 40 present in S1?\",  40 in S1)"
      ],
      "metadata": {
        "colab": {
          "base_uri": "https://localhost:8080/"
        },
        "id": "SBD5IlFRvWdw",
        "outputId": "09222b07-3704-4952-e321-4460c1f57b8a"
      },
      "execution_count": 43,
      "outputs": [
        {
          "output_type": "stream",
          "name": "stdout",
          "text": [
            "is 40 present in S1? True\n"
          ]
        }
      ]
    },
    {
      "cell_type": "markdown",
      "source": [
        "Q3)iv)"
      ],
      "metadata": {
        "id": "anx_F4GBvoz8"
      }
    },
    {
      "cell_type": "code",
      "source": [
        "S1 = set([10,20,30,40,50,60])\n",
        "S2 = set([40,50,60,70,80,90])\n",
        "print(S1.union(S2))"
      ],
      "metadata": {
        "colab": {
          "base_uri": "https://localhost:8080/"
        },
        "id": "LIoC03OavsGg",
        "outputId": "b04abf1c-15b8-4bee-ee97-db4da6e6f0f1"
      },
      "execution_count": 44,
      "outputs": [
        {
          "output_type": "stream",
          "name": "stdout",
          "text": [
            "{70, 40, 10, 80, 50, 20, 90, 60, 30}\n"
          ]
        }
      ]
    },
    {
      "cell_type": "markdown",
      "source": [
        "Q3)v)"
      ],
      "metadata": {
        "id": "Rwrcp9Cuv7xM"
      }
    },
    {
      "cell_type": "code",
      "source": [
        "S1 = set([10,20,30,40,50,60])\n",
        "S2 = set([40,50,60,70,80,90])\n",
        "print(S1.intersection(S2))"
      ],
      "metadata": {
        "colab": {
          "base_uri": "https://localhost:8080/"
        },
        "id": "nOKby4tbv9OX",
        "outputId": "bea19e68-4058-40e4-b849-dd2d75d8e9e7"
      },
      "execution_count": 45,
      "outputs": [
        {
          "output_type": "stream",
          "name": "stdout",
          "text": [
            "{40, 50, 60}\n"
          ]
        }
      ]
    },
    {
      "cell_type": "markdown",
      "source": [
        "Q3)vi)"
      ],
      "metadata": {
        "id": "1pI1sRHewFWE"
      }
    },
    {
      "cell_type": "code",
      "source": [
        "S1 = set([10,20,30,40,50,60])\n",
        "S2 = set([40,50,60,70,80,90])\n",
        "print(S1 - S2)"
      ],
      "metadata": {
        "colab": {
          "base_uri": "https://localhost:8080/"
        },
        "id": "maVMSHKZwHOk",
        "outputId": "cc0069d9-fadf-4312-93d7-7504924cd548"
      },
      "execution_count": 46,
      "outputs": [
        {
          "output_type": "stream",
          "name": "stdout",
          "text": [
            "{10, 20, 30}\n"
          ]
        }
      ]
    },
    {
      "cell_type": "markdown",
      "source": [
        "Q4)i)"
      ],
      "metadata": {
        "id": "beOvyq4wwM3m"
      }
    },
    {
      "cell_type": "code",
      "source": [
        "import random as r\n",
        "print (r.randint(6, 8))"
      ],
      "metadata": {
        "colab": {
          "base_uri": "https://localhost:8080/"
        },
        "id": "vpKiHfaLwPdi",
        "outputId": "cd29a0fb-f7f0-46eb-e84b-5ed35e03e2e7"
      },
      "execution_count": 47,
      "outputs": [
        {
          "output_type": "stream",
          "name": "stdout",
          "text": [
            "7\n"
          ]
        }
      ]
    },
    {
      "cell_type": "markdown",
      "source": [
        "Q4)ii)"
      ],
      "metadata": {
        "id": "fPv0PWQZxdwv"
      }
    },
    {
      "cell_type": "code",
      "source": [
        "def prime(number):\n",
        "    if number < 2:\n",
        "        return False\n",
        "    for i in range(2, int(number//2) + 1):\n",
        "        if number % i == 0:\n",
        "            return False\n",
        "    return True\n",
        "\n",
        "for num in range(600, 801):\n",
        "    if prime(num):\n",
        "        print(num)\n",
        "\n"
      ],
      "metadata": {
        "colab": {
          "base_uri": "https://localhost:8080/"
        },
        "id": "wZNpZDNFxgFq",
        "outputId": "0db1994b-098f-4a88-8ec0-72f7017c774c"
      },
      "execution_count": 57,
      "outputs": [
        {
          "output_type": "stream",
          "name": "stdout",
          "text": [
            "601\n",
            "607\n",
            "613\n",
            "617\n",
            "619\n",
            "631\n",
            "641\n",
            "643\n",
            "647\n",
            "653\n",
            "659\n",
            "661\n",
            "673\n",
            "677\n",
            "683\n",
            "691\n",
            "701\n",
            "709\n",
            "719\n",
            "727\n",
            "733\n",
            "739\n",
            "743\n",
            "751\n",
            "757\n",
            "761\n",
            "769\n",
            "773\n",
            "787\n",
            "797\n"
          ]
        }
      ]
    },
    {
      "cell_type": "markdown",
      "source": [
        "Q4)iii)"
      ],
      "metadata": {
        "id": "KWon7AeczjVk"
      }
    },
    {
      "cell_type": "code",
      "source": [
        "for n in range(100, 1001):\n",
        "    if n % 7 == 0 and num % 9 == 0:\n",
        "        print(n)"
      ],
      "metadata": {
        "id": "vAhkaj1PzmEw"
      },
      "execution_count": 59,
      "outputs": []
    },
    {
      "cell_type": "markdown",
      "source": [
        "Q5)i)"
      ],
      "metadata": {
        "id": "7xljmqdd0M9s"
      }
    },
    {
      "cell_type": "code",
      "source": [
        "import random as r\n",
        "\n",
        "A=range(10, 30)\n",
        "\n",
        "L1 = (r.sample(A, 10))\n",
        "L2 = (r.sample(A, 10))\n",
        "print(L1)\n",
        "print(L2)\n",
        "\n",
        "S1 = set(L1)\n",
        "S2 = set(L2)\n",
        "print(S1.intersection(S2))"
      ],
      "metadata": {
        "colab": {
          "base_uri": "https://localhost:8080/"
        },
        "id": "K8_qPY1I0Pla",
        "outputId": "fc06e733-6acb-45ab-cf52-aa0c1f9bce25"
      },
      "execution_count": 63,
      "outputs": [
        {
          "output_type": "stream",
          "name": "stdout",
          "text": [
            "[17, 27, 13, 14, 10, 11, 15, 21, 24, 19]\n",
            "[27, 28, 17, 21, 23, 25, 12, 19, 14, 13]\n",
            "{13, 14, 17, 19, 21, 27}\n"
          ]
        }
      ]
    },
    {
      "cell_type": "markdown",
      "source": [
        "Q5)ii)"
      ],
      "metadata": {
        "id": "J6pRePcZ8xsw"
      }
    },
    {
      "cell_type": "code",
      "source": [
        "import random as r\n",
        "\n",
        "A=range(10, 30)\n",
        "\n",
        "L1 = (r.sample(A, 10))\n",
        "L2 = (r.sample(A, 10))\n",
        "print(L1)\n",
        "print(L2)\n",
        "\n",
        "S1 = set(L1)\n",
        "S2 = set(L2)\n",
        "print(S1-S2)\n",
        "print(S2-S1)"
      ],
      "metadata": {
        "colab": {
          "base_uri": "https://localhost:8080/"
        },
        "id": "Og8PVPV48z0F",
        "outputId": "52e99256-00ad-4c89-fb76-49a2d1796aab"
      },
      "execution_count": 64,
      "outputs": [
        {
          "output_type": "stream",
          "name": "stdout",
          "text": [
            "[22, 13, 16, 23, 28, 17, 26, 11, 21, 29]\n",
            "[18, 20, 26, 25, 22, 12, 28, 23, 21, 17]\n",
            "{16, 29, 11, 13}\n",
            "{25, 18, 12, 20}\n"
          ]
        }
      ]
    },
    {
      "cell_type": "markdown",
      "source": [
        "Q5)iii)"
      ],
      "metadata": {
        "id": "7cibqtu59GB-"
      }
    },
    {
      "cell_type": "code",
      "source": [
        "import random as r\n",
        "\n",
        "A=range(10, 30)\n",
        "\n",
        "L1 = (r.sample(A, 10))\n",
        "L2 = (r.sample(A, 10))\n",
        "print(L1)\n",
        "print(L2)\n",
        "\n",
        "print(min(L1))\n",
        "print(min(L2))"
      ],
      "metadata": {
        "colab": {
          "base_uri": "https://localhost:8080/"
        },
        "id": "3Iit-vQk9HzF",
        "outputId": "306df1cf-13f9-4677-be32-0387de76077c"
      },
      "execution_count": 65,
      "outputs": [
        {
          "output_type": "stream",
          "name": "stdout",
          "text": [
            "[11, 29, 10, 14, 24, 21, 25, 18, 20, 17]\n",
            "[16, 26, 19, 14, 22, 27, 10, 24, 18, 17]\n",
            "10\n",
            "10\n"
          ]
        }
      ]
    },
    {
      "cell_type": "markdown",
      "source": [
        "Q6)i)"
      ],
      "metadata": {
        "id": "jKe2A3XQ9qpS"
      }
    },
    {
      "cell_type": "code",
      "source": [
        "import random as r\n",
        "\n",
        "A=range(100, 900)\n",
        "\n",
        "L1 = (r.sample(A,10))\n",
        "print(L1)\n",
        "\n",
        "sum_odd=0\n",
        "for num in L1:\n",
        "  if num %2 != 0:\n",
        "    sum_odd=sum_odd+num\n",
        "\n",
        "print(sum_odd) #sum\n",
        "\n",
        "count_odd = 0\n",
        "for num in L1:\n",
        "    if num % 2 != 0:\n",
        "        count_odd = count_odd+1\n",
        "\n",
        "print(count_odd) #count"
      ],
      "metadata": {
        "colab": {
          "base_uri": "https://localhost:8080/"
        },
        "id": "pGv_FYtZ9usu",
        "outputId": "1015232e-5dfa-4a30-b247-f55d8f34c0c7"
      },
      "execution_count": 79,
      "outputs": [
        {
          "output_type": "stream",
          "name": "stdout",
          "text": [
            "[390, 138, 767, 452, 552, 838, 817, 412, 636, 356]\n",
            "1584\n",
            "2\n"
          ]
        }
      ]
    },
    {
      "cell_type": "markdown",
      "source": [
        "Q6)ii)"
      ],
      "metadata": {
        "id": "GZ_k40FkAVHO"
      }
    },
    {
      "cell_type": "code",
      "source": [
        "import random as r\n",
        "\n",
        "A=range(100,900)\n",
        "\n",
        "L1=(r.sample(A,10))\n",
        "print(L1)\n",
        "\n",
        "sum_even=0\n",
        "for num in L1:\n",
        "  if num%2 ==0:\n",
        "    sum_even=sum_even+num\n",
        "\n",
        "print(sum_even)\n",
        "\n",
        "count_even = 0\n",
        "for num in L1:\n",
        "    if num % 2 == 0:\n",
        "        count_even = count_even+1\n",
        "\n",
        "print(count_even)"
      ],
      "metadata": {
        "colab": {
          "base_uri": "https://localhost:8080/"
        },
        "id": "K6T04KuDAXIe",
        "outputId": "c8208758-5a6c-4d4e-b601-965f082f8e66"
      },
      "execution_count": 80,
      "outputs": [
        {
          "output_type": "stream",
          "name": "stdout",
          "text": [
            "[197, 844, 605, 893, 529, 112, 397, 713, 441, 424]\n",
            "1380\n",
            "3\n"
          ]
        }
      ]
    },
    {
      "cell_type": "markdown",
      "source": [
        "Q6)iii)"
      ],
      "metadata": {
        "id": "iX0355eVA8cC"
      }
    },
    {
      "cell_type": "code",
      "source": [
        "import random as r\n",
        "\n",
        "A=range(100,900)\n",
        "\n",
        "L1=(r.sample(A,10))\n",
        "print(L1)\n",
        "\n",
        "sum_prime=0\n"
      ],
      "metadata": {
        "id": "Btqtz7zfBDH0"
      },
      "execution_count": null,
      "outputs": []
    },
    {
      "cell_type": "markdown",
      "source": [
        "Q7)"
      ],
      "metadata": {
        "id": "TqI2fESMBZpX"
      }
    },
    {
      "cell_type": "code",
      "source": [
        "D={1:\"One\", 2:\"Two\", 3:\"Three\", 4:\"Four\", 5:\"Five\"}\n",
        "print(D)\n",
        "print(list(D.keys()))\n",
        "print(list(D.values()))\n",
        "print(\"Key 1 : \", D[1])\n",
        "print(\"Key 2 : \", D[2])\n",
        "print(\"Key 3 : \", D[3])\n",
        "print(\"Key 4 : \", D[4])\n",
        "print(\"Key 5 : \", D[5])"
      ],
      "metadata": {
        "colab": {
          "base_uri": "https://localhost:8080/"
        },
        "id": "JkWIHgLIBeqX",
        "outputId": "bb7f528a-1379-4158-dca8-96554ed35bd6"
      },
      "execution_count": 84,
      "outputs": [
        {
          "output_type": "stream",
          "name": "stdout",
          "text": [
            "{1: 'One', 2: 'Two', 3: 'Three', 4: 'Four', 5: 'Five'}\n",
            "[1, 2, 3, 4, 5]\n",
            "['One', 'Two', 'Three', 'Four', 'Five']\n",
            "Key 1 :  One\n",
            "Key 2 :  Two\n",
            "Key 3 :  Three\n",
            "Key 4 :  Four\n",
            "Key 5 :  Five\n"
          ]
        }
      ]
    },
    {
      "cell_type": "markdown",
      "source": [
        "Q8)"
      ],
      "metadata": {
        "id": "6AdIngzdCRv6"
      }
    },
    {
      "cell_type": "code",
      "source": [
        "L=['one', 'two', 'three', 'four', 'five']\n",
        "print(len(L))\n",
        "print(\"One:\",len(L[0]))\n",
        "print(\"Two:\",len(L[1]))\n",
        "print(\"Three:\",len(L[2]))\n",
        "print(\"Four:\",len(L[3]))\n",
        "print(\"Five:\",len(L[4]))"
      ],
      "metadata": {
        "colab": {
          "base_uri": "https://localhost:8080/"
        },
        "id": "AoOoiGH1CS6P",
        "outputId": "fa343d62-5e75-4761-a120-3715862ccd2f"
      },
      "execution_count": 89,
      "outputs": [
        {
          "output_type": "stream",
          "name": "stdout",
          "text": [
            "5\n",
            "One: 3\n",
            "Two: 3\n",
            "Three: 5\n",
            "Four: 4\n",
            "Five: 4\n"
          ]
        }
      ]
    },
    {
      "cell_type": "markdown",
      "source": [
        "Q9)"
      ],
      "metadata": {
        "id": "B1a_2O3gEcne"
      }
    },
    {
      "cell_type": "code",
      "source": [
        "import random as r\n",
        "import string as s\n",
        "fp=open('test.txt','w')\n",
        "for i in range(0,101):\n",
        "  a=\"\".join(r.sample(s.ascii_letters, r.randint(10,15)))\n",
        "  fp.write(a)\n",
        "fp.close()  "
      ],
      "metadata": {
        "id": "jTK1YTkmEdvE"
      },
      "execution_count": 3,
      "outputs": []
    },
    {
      "cell_type": "markdown",
      "source": [
        "Q10)"
      ],
      "metadata": {
        "id": "ZdHx42kwkFJi"
      }
    },
    {
      "cell_type": "code",
      "source": [
        "fp=open('test.txt','w')\n",
        "for n in range(600,801):\n",
        "  f=0\n",
        "  for i in range(2,int(n-1)):\n",
        "    if n%i==0:\n",
        "      f=1\n",
        "      break\n",
        "  if f==0:\n",
        "    fp.write(str(n))\n",
        "fp.close()        "
      ],
      "metadata": {
        "id": "49n2VTzQkFj7"
      },
      "execution_count": 8,
      "outputs": []
    },
    {
      "cell_type": "markdown",
      "source": [
        "Q11)"
      ],
      "metadata": {
        "id": "4NC2MtxxkIci"
      }
    },
    {
      "cell_type": "code",
      "source": [
        "import time\n",
        "\n",
        "start_time = time.time()\n",
        "\n",
        "total = 0\n",
        "for i in range(10):\n",
        "    total += i\n",
        "\n",
        "end_time = time.time()\n",
        "\n",
        "total_time = end_time - start_time\n",
        "\n",
        "print(\"Time taken:\", total_time, \"seconds\")"
      ],
      "metadata": {
        "colab": {
          "base_uri": "https://localhost:8080/"
        },
        "id": "yIu1u1PUkJ_o",
        "outputId": "4245d337-fcea-4a52-c67f-fede6f39aab0"
      },
      "execution_count": 4,
      "outputs": [
        {
          "output_type": "stream",
          "name": "stdout",
          "text": [
            "Time taken: 0.0001266002655029297 seconds\n"
          ]
        }
      ]
    },
    {
      "cell_type": "markdown",
      "source": [
        "Q12"
      ],
      "metadata": {
        "id": "MbKXcYOVkxBg"
      }
    },
    {
      "cell_type": "code",
      "source": [
        "import time\n",
        "\n",
        "start_time = time.time()\n",
        "\n",
        "L = [25000,15000,20000,5000,10000]\n",
        "\n",
        "sorted_list = sorted(L)\n",
        "\n",
        "\n",
        "end_time = time.time()\n",
        "\n",
        "total_time = end_time - start_time\n",
        "\n",
        "print(\"Sorted list:\", sorted_list)\n",
        "print(\"Time taken:\", total_time, \"seconds\")"
      ],
      "metadata": {
        "colab": {
          "base_uri": "https://localhost:8080/"
        },
        "id": "fZWYpfHRkynF",
        "outputId": "b28047a0-94d9-4ad9-b070-002aeda8a92f"
      },
      "execution_count": 101,
      "outputs": [
        {
          "output_type": "stream",
          "name": "stdout",
          "text": [
            "Sorted list: [5000, 10000, 15000, 20000, 25000]\n",
            "Time taken: 0.00014257431030273438 seconds\n"
          ]
        }
      ]
    },
    {
      "cell_type": "markdown",
      "source": [
        "Q13)"
      ],
      "metadata": {
        "id": "hA4CEkugn6RE"
      }
    },
    {
      "cell_type": "code",
      "source": [
        "student_marks = {\n",
        "    \"Angad\": [90, 100, 92, 80, 97],\n",
        "    \"Bilawal\": [100, 89, 89, 89, 88],\n",
        "    \"Nihaal\": [92, 90, 85, 88, 92],\n",
        "    \"Rohan\": [75, 80, 76, 82, 70],\n",
        "    \"Ikraj\": [85, 88, 90, 92, 87]\n",
        "}\n",
        "\n",
        "# Calculate average marks for each student\n",
        "average_marks = {}\n",
        "for student, marks in student_marks.items():\n",
        "    total_marks = sum(marks)\n",
        "    number_of_subjects = len(marks)\n",
        "    average_marks[student] = total_marks / number_of_subjects\n",
        "\n",
        "# Find student with maximum and minimum average marks\n",
        "max_student = max(average_marks, key=average_marks.get)\n",
        "min_student = min(average_marks, key=average_marks.get)\n",
        "max_student_marks = max(average_marks[\"Angad\"], average_marks[\"Bilawal\"], average_marks[\"Nihaal\"], average_marks[\"Rohan\"], average_marks[\"Ikraj\"])\n",
        "min_student_marks = min(average_marks[\"Angad\"], average_marks[\"Bilawal\"], average_marks[\"Nihaal\"], average_marks[\"Rohan\"], average_marks[\"Ikraj\"])\n",
        "\n",
        "# Print the results\n",
        "print(\"Student with maximum average marks:\", max_student, \"with marks:\", max_student_marks)\n",
        "print(\"Student with minimum average marks:\", min_student, \"with marks:\", min_student_marks)"
      ],
      "metadata": {
        "colab": {
          "base_uri": "https://localhost:8080/"
        },
        "id": "GGz-RTezn8ig",
        "outputId": "b91eba41-17d9-42a5-a2b7-7d0c40417e3c"
      },
      "execution_count": 1,
      "outputs": [
        {
          "output_type": "stream",
          "name": "stdout",
          "text": [
            "Student with maximum average marks: Angad with marks: 91.8\n",
            "Student with minimum average marks: Rohan with marks: 76.6\n"
          ]
        }
      ]
    }
  ]
}